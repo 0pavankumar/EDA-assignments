{
 "cells": [
  {
   "cell_type": "markdown",
   "id": "91d2cc9d",
   "metadata": {},
   "source": [
    "Name: PAVAN KUMAR \n",
    "\n",
    "Batch Id: AUG 4th 2023\n",
    "\n",
    "Topic: Data Pre-Processing \n",
    "\n",
    "subtopic: string manupulation"
   ]
  },
  {
   "cell_type": "markdown",
   "id": "e130d136",
   "metadata": {},
   "source": [
    "1.Create a string “Grow Gratitude”.\n",
    "Code for the following tasks:\n",
    "\n",
    "a)\tHow do you access the letter “G” of “Growth”?\n",
    "\n",
    "b)\tHow do you find the length of the string?\n",
    "\n",
    "c)\tCount how many times “G” is in the string?\n"
   ]
  },
  {
   "cell_type": "code",
   "execution_count": 1,
   "id": "fac67100",
   "metadata": {},
   "outputs": [
    {
     "data": {
      "text/plain": [
       "'G'"
      ]
     },
     "execution_count": 1,
     "metadata": {},
     "output_type": "execute_result"
    }
   ],
   "source": [
    "x = \"Grow Gratitude\"\n",
    "#1a\n",
    "x[0]"
   ]
  },
  {
   "cell_type": "code",
   "execution_count": 2,
   "id": "62cd689a",
   "metadata": {},
   "outputs": [
    {
     "data": {
      "text/plain": [
       "14"
      ]
     },
     "execution_count": 2,
     "metadata": {},
     "output_type": "execute_result"
    }
   ],
   "source": [
    "#1b\n",
    "len(x)"
   ]
  },
  {
   "cell_type": "code",
   "execution_count": 3,
   "id": "1d7472bc",
   "metadata": {},
   "outputs": [
    {
     "data": {
      "text/plain": [
       "2"
      ]
     },
     "execution_count": 3,
     "metadata": {},
     "output_type": "execute_result"
    }
   ],
   "source": [
    "#1c\n",
    "x.count(\"G\")"
   ]
  },
  {
   "cell_type": "markdown",
   "id": "e04d9797",
   "metadata": {},
   "source": [
    "2.Create a string “Being aware of a single shortcoming within yourself is far more useful than being aware of a thousand in someone else.”\n",
    "\n",
    "Code for the following:\n",
    "\n",
    "a)\tCount the number of characters in the string.\n"
   ]
  },
  {
   "cell_type": "code",
   "execution_count": 4,
   "id": "61dfa67b",
   "metadata": {},
   "outputs": [],
   "source": [
    "a =  'Being aware of a single shortcoming within yourself is far more useful than being aware of a thousand in someone else.'"
   ]
  },
  {
   "cell_type": "code",
   "execution_count": 5,
   "id": "780086c7",
   "metadata": {},
   "outputs": [],
   "source": [
    "letters = len(a)-a.count(\" \") -a.count(\".\")"
   ]
  },
  {
   "cell_type": "code",
   "execution_count": 6,
   "id": "1f61b357",
   "metadata": {},
   "outputs": [
    {
     "data": {
      "text/plain": [
       "97"
      ]
     },
     "execution_count": 6,
     "metadata": {},
     "output_type": "execute_result"
    }
   ],
   "source": [
    "letters"
   ]
  },
  {
   "cell_type": "code",
   "execution_count": 7,
   "id": "8f8e7663",
   "metadata": {},
   "outputs": [
    {
     "data": {
      "text/plain": [
       "118"
      ]
     },
     "execution_count": 7,
     "metadata": {},
     "output_type": "execute_result"
    }
   ],
   "source": [
    "total = len(a)\n",
    "total"
   ]
  },
  {
   "cell_type": "code",
   "execution_count": 8,
   "id": "ed8fb68c",
   "metadata": {},
   "outputs": [
    {
     "data": {
      "text/plain": [
       "20"
      ]
     },
     "execution_count": 8,
     "metadata": {},
     "output_type": "execute_result"
    }
   ],
   "source": [
    "a.count(\" \")"
   ]
  },
  {
   "cell_type": "markdown",
   "id": "ae194e31",
   "metadata": {},
   "source": [
    "3.\tCreate a string \"Idealistic as it may sound, altruism should be the driving force in business, not just competition and a desire for wealth\"\n",
    "Code for the following tasks:\n",
    "\n",
    "a)\tget one char of the word\n",
    "\n",
    "b)\tget the first three char\n",
    "\n",
    "c)\tget the last three char\n"
   ]
  },
  {
   "cell_type": "code",
   "execution_count": 9,
   "id": "15bfc35f",
   "metadata": {},
   "outputs": [],
   "source": [
    "b = \"Idealistic as it may sound, altruism should be the driving force in business, not just competition and a desire for wealth\""
   ]
  },
  {
   "cell_type": "code",
   "execution_count": 10,
   "id": "09e782a4",
   "metadata": {},
   "outputs": [
    {
     "data": {
      "text/plain": [
       "'I'"
      ]
     },
     "execution_count": 10,
     "metadata": {},
     "output_type": "execute_result"
    }
   ],
   "source": [
    "#3a\n",
    "b[0]"
   ]
  },
  {
   "cell_type": "code",
   "execution_count": 11,
   "id": "d8a67686",
   "metadata": {},
   "outputs": [
    {
     "data": {
      "text/plain": [
       "'Ide'"
      ]
     },
     "execution_count": 11,
     "metadata": {},
     "output_type": "execute_result"
    }
   ],
   "source": [
    "#3b\n",
    "b[0:3]"
   ]
  },
  {
   "cell_type": "code",
   "execution_count": 12,
   "id": "56c8a61e",
   "metadata": {},
   "outputs": [
    {
     "data": {
      "text/plain": [
       "'lth'"
      ]
     },
     "execution_count": 12,
     "metadata": {},
     "output_type": "execute_result"
    }
   ],
   "source": [
    "#3c\n",
    "b[-3:]"
   ]
  },
  {
   "cell_type": "markdown",
   "id": "b32dbecc",
   "metadata": {},
   "source": [
    "4.\tcreate a string \"stay positive and optimistic\". Now write a code to split on whitespace.\n",
    "Write a code to find if:\n",
    "\n",
    "a)\tThe string starts with “H”\n",
    "\n",
    "b)\tThe string ends with “d”\n",
    "\n",
    "c)\tThe string ends with “c”\n"
   ]
  },
  {
   "cell_type": "code",
   "execution_count": 13,
   "id": "aa768350",
   "metadata": {},
   "outputs": [],
   "source": [
    "c =\"stay positive and optimistic\""
   ]
  },
  {
   "cell_type": "code",
   "execution_count": 14,
   "id": "5e0be8a7",
   "metadata": {},
   "outputs": [
    {
     "data": {
      "text/plain": [
       "['stay', 'positive', 'and', 'optimistic']"
      ]
     },
     "execution_count": 14,
     "metadata": {},
     "output_type": "execute_result"
    }
   ],
   "source": [
    "#code to split on whitespace.\n",
    "c.split(\" \")"
   ]
  },
  {
   "cell_type": "code",
   "execution_count": 15,
   "id": "37400015",
   "metadata": {
    "scrolled": true
   },
   "outputs": [
    {
     "data": {
      "text/plain": [
       "False"
      ]
     },
     "execution_count": 15,
     "metadata": {},
     "output_type": "execute_result"
    }
   ],
   "source": [
    "#4a\n",
    "c.startswith(\"H\")"
   ]
  },
  {
   "cell_type": "code",
   "execution_count": 16,
   "id": "aa135ab4",
   "metadata": {},
   "outputs": [
    {
     "data": {
      "text/plain": [
       "False"
      ]
     },
     "execution_count": 16,
     "metadata": {},
     "output_type": "execute_result"
    }
   ],
   "source": [
    "#4b\n",
    "c.endswith(\"d\")"
   ]
  },
  {
   "cell_type": "code",
   "execution_count": 17,
   "id": "3c590159",
   "metadata": {},
   "outputs": [
    {
     "data": {
      "text/plain": [
       "True"
      ]
     },
     "execution_count": 17,
     "metadata": {},
     "output_type": "execute_result"
    }
   ],
   "source": [
    "#4c\n",
    "c.endswith(\"c\")"
   ]
  },
  {
   "cell_type": "markdown",
   "id": "216cbf28",
   "metadata": {},
   "source": [
    "5.\tWrite a code to print \" 🪐 \" one hundred and eight times.\n"
   ]
  },
  {
   "cell_type": "code",
   "execution_count": 18,
   "id": "4ba05428",
   "metadata": {},
   "outputs": [
    {
     "name": "stdout",
     "output_type": "stream",
     "text": [
      "🪐 🪐 🪐 🪐 🪐 🪐 🪐 🪐 🪐 🪐 🪐 🪐 🪐 🪐 🪐 🪐 🪐 🪐 🪐 🪐 🪐 🪐 🪐 🪐 🪐 🪐 🪐 🪐 🪐 🪐 🪐 🪐 🪐 🪐 🪐 🪐 🪐 🪐 🪐 🪐 🪐 🪐 🪐 🪐 🪐 🪐 🪐 🪐 🪐 🪐 🪐 🪐 🪐 🪐 🪐 🪐 🪐 🪐 🪐 🪐 🪐 🪐 🪐 🪐 🪐 🪐 🪐 🪐 🪐 🪐 🪐 🪐 🪐 🪐 🪐 🪐 🪐 🪐 🪐 🪐 🪐 🪐 🪐 🪐 🪐 🪐 🪐 🪐 🪐 🪐 🪐 🪐 🪐 🪐 🪐 🪐 🪐 🪐 🪐 🪐 🪐 🪐 🪐 🪐 🪐 🪐 🪐 🪐 "
     ]
    }
   ],
   "source": [
    "emoji = \"🪐\"\n",
    "for _ in range(108):\n",
    "    print(emoji, end=\" \")"
   ]
  },
  {
   "cell_type": "markdown",
   "id": "83c584f1",
   "metadata": {},
   "source": [
    "6.\tCreate a string “Grow Gratitude” and write a code to replace “Grow” with “Growth of”\n"
   ]
  },
  {
   "cell_type": "code",
   "execution_count": 19,
   "id": "f503c296",
   "metadata": {},
   "outputs": [],
   "source": [
    "x = 'Grow Gratitude'"
   ]
  },
  {
   "cell_type": "code",
   "execution_count": 20,
   "id": "5753aff4",
   "metadata": {},
   "outputs": [
    {
     "data": {
      "text/plain": [
       "'Growth of Gratitude'"
      ]
     },
     "execution_count": 20,
     "metadata": {},
     "output_type": "execute_result"
    }
   ],
   "source": [
    "x = x.replace('Grow' , 'Growth of')\n",
    "x"
   ]
  },
  {
   "cell_type": "markdown",
   "id": "ef77f837",
   "metadata": {},
   "source": [
    "7.A story was printed in a pdf, which isn’t making any sense. i.e.:\n",
    "“.elgnujehtotniffo deps mehtfohtoB .eerfnoilehttesotseporeht no dewangdnanar eh ,ylkciuQ .elbuortninoilehtdecitondnatsapdeklawesuomeht ,nooS .repmihwotdetratsdnatuotegotgnilggurts saw noilehT .eert a tsniagapumihdeityehT .mehthtiwnoilehtkootdnatserofehtotniemacsretnuhwef a ,yad enO .ogmihteldnaecnedifnocs’esuomeht ta dehgualnoilehT ”.emevasuoy fi yademosuoyotplehtaergfo eb lliw I ,uoyesimorp I“ .eerfmihtesotnoilehtdetseuqeryletarepsedesuomehtnehwesuomehttaeottuoba saw eH .yrgnaetiuqpuekow eh dna ,peels s’noilehtdebrutsidsihT .nufroftsujydobsihnwoddnapugninnurdetratsesuom a nehwelgnujehtnignipeelsecno saw noil A”\n",
    "\n",
    "You have noticed that the story is printed in a reversed order. Rectify the same and write a code to print the same story in the correct order.\n"
   ]
  },
  {
   "cell_type": "code",
   "execution_count": 21,
   "id": "4cecb3dc",
   "metadata": {},
   "outputs": [],
   "source": [
    "e = '.elgnujehtotniffo deps mehtfohtoB .eerfnoilehttesotseporeht no dewangdnanar eh ,ylkciuQ .elbuortninoilehtdecitondnatsapdeklawesuomeht ,nooS .repmihwotdetratsdnatuotegotgnilggurts saw noilehT .eert a tsniagapumihdeityehT .mehthtiwnoilehtkootdnatserofehtotniemacsretnuhwef a ,yad enO .ogmihteldnaecnedifnocs’esuomeht ta dehgualnoilehT ”.emevasuoy fi yademosuoyotplehtaergfo eb lliw I ,uoyesimorp I“ .eerfmihtesotnoilehtdetseuqeryletarepsedesuomehtnehwesuomehttaeottuoba saw eH .yrgnaetiuqpuekow eh dna ,peels s’noilehtdebrutsidsihT .nufroftsujydobsihnwoddnapugninnurdetratsesuom a nehwelgnujehtnignipeelsecno saw noil A'\n"
   ]
  },
  {
   "cell_type": "code",
   "execution_count": 22,
   "id": "adc9f624",
   "metadata": {},
   "outputs": [],
   "source": [
    "f= e[::-1]"
   ]
  },
  {
   "cell_type": "code",
   "execution_count": 23,
   "id": "5a6aac61",
   "metadata": {},
   "outputs": [
    {
     "data": {
      "text/plain": [
       "'A lion was oncesleepinginthejunglewhen a mousestartedrunningupanddownhisbodyjustforfun. Thisdisturbedthelion’s sleep, and he wokeupquiteangry. He was abouttoeatthemousewhenthemousedesperatelyrequestedtheliontosethimfree. “I promiseyou, I will be ofgreathelptoyousomeday if yousaveme.” Thelionlaughed at themouse’sconfidenceandlethimgo. One day, a fewhunterscameintotheforestandtookthelionwiththem. Theytiedhimupagainst a tree. Thelion was strugglingtogetoutandstartedtowhimper. Soon, themousewalkedpastandnoticedthelionintrouble. Quickly, he ranandgnawed on theropestosetthelionfree. Bothofthem sped offintothejungle.'"
      ]
     },
     "execution_count": 23,
     "metadata": {},
     "output_type": "execute_result"
    }
   ],
   "source": [
    "f"
   ]
  }
 ],
 "metadata": {
  "kernelspec": {
   "display_name": "Python 3 (ipykernel)",
   "language": "python",
   "name": "python3"
  },
  "language_info": {
   "codemirror_mode": {
    "name": "ipython",
    "version": 3
   },
   "file_extension": ".py",
   "mimetype": "text/x-python",
   "name": "python",
   "nbconvert_exporter": "python",
   "pygments_lexer": "ipython3",
   "version": "3.11.5"
  }
 },
 "nbformat": 4,
 "nbformat_minor": 5
}
